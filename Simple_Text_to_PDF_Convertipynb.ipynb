{
  "nbformat": 4,
  "nbformat_minor": 0,
  "metadata": {
    "colab": {
      "provenance": [],
      "authorship_tag": "ABX9TyOvpH2dn93RCwrKRIQMCWdi",
      "include_colab_link": true
    },
    "kernelspec": {
      "name": "python3",
      "display_name": "Python 3"
    },
    "language_info": {
      "name": "python"
    }
  },
  "cells": [
    {
      "cell_type": "markdown",
      "metadata": {
        "id": "view-in-github",
        "colab_type": "text"
      },
      "source": [
        "<a href=\"https://colab.research.google.com/github/hibameo/python_Simple-Text-to-PDF-Convert/blob/main/Simple_Text_to_PDF_Convertipynb.ipynb\" target=\"_parent\"><img src=\"https://colab.research.google.com/assets/colab-badge.svg\" alt=\"Open In Colab\"/></a>"
      ]
    },
    {
      "cell_type": "code",
      "source": [
        "!pip install fpdf"
      ],
      "metadata": {
        "colab": {
          "base_uri": "https://localhost:8080/"
        },
        "id": "IGFbR9Sf0E_k",
        "outputId": "51af84cd-d4ae-4af8-8d42-2a41d2c604f8"
      },
      "execution_count": 5,
      "outputs": [
        {
          "output_type": "stream",
          "name": "stdout",
          "text": [
            "Requirement already satisfied: fpdf in /usr/local/lib/python3.11/dist-packages (1.7.2)\n"
          ]
        }
      ]
    },
    {
      "source": [
        "\n",
        "from fpdf import FPDF\n",
        "\n",
        "def text_to_pdf(text, filename=\"output.pdf\"):\n",
        "    pdf = FPDF() # Create an FPDF object\n",
        "    pdf.set_auto_page_break(auto=True, margin=15)\n",
        "    pdf.add_page()\n",
        "    pdf.set_font(\"Arial\", size=12)\n",
        "\n",
        "    pdf.multi_cell(0, 10, text)\n",
        "\n",
        "    pdf.output(filename)\n",
        "    print(f\"PDF saved as {filename}\")\n",
        "\n",
        "# User se text input lena\n",
        "user_text = input(\"Enter the text you want to convert to PDF: \")\n",
        "text_to_pdf(user_text)"
      ],
      "cell_type": "code",
      "metadata": {
        "colab": {
          "base_uri": "https://localhost:8080/"
        },
        "id": "4ahJK05Qz5Us",
        "outputId": "23fefccc-75ee-414b-b415-6de7f49de3f0"
      },
      "execution_count": 6,
      "outputs": [
        {
          "output_type": "stream",
          "name": "stdout",
          "text": [
            "Enter the text you want to convert to PDF: hello how are u\n",
            "PDF saved as output.pdf\n"
          ]
        }
      ]
    }
  ]
}